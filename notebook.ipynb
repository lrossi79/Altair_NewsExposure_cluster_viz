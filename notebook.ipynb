{
 "cells": [
  {
   "cell_type": "code",
   "execution_count": 3,
   "id": "df8c5e06",
   "metadata": {},
   "outputs": [],
   "source": [
    "import altair as alt\n",
    "import pandas as pd\n",
    "from vega_datasets import data\n"
   ]
  },
  {
   "cell_type": "code",
   "execution_count": 4,
   "id": "f99c1e02",
   "metadata": {},
   "outputs": [],
   "source": [
    "df=pd.read_csv(\"\")"
   ]
  },
  {
   "cell_type": "code",
   "execution_count": 6,
   "id": "e24faaf8",
   "metadata": {},
   "outputs": [],
   "source": [
    "\n",
    "alt.data_transformers.disable_max_rows()\n",
    "click=alt.selection_multi(encodings=['color'])\n",
    "title='XXXX - Clusters of political URLs visualized in 2d using t-SNE' #change year according to the data\n",
    "\n",
    "\n",
    "\n",
    "scatter=alt.Chart(df).mark_point().encode(\n",
    "    x='d2_x:Q',\n",
    "    y='d2_y:Q',\n",
    "    tooltip='alltext_clean:N',\n",
    "    color='cluster:N'\n",
    ").transform_filter(click\n",
    "                   ).properties(width=800,height=800\n",
    "                                ).interactive()\n",
    "\n",
    "\n",
    "text = alt.Chart(df).mark_text(color='black',align='left').encode(\n",
    "    x='count()',\n",
    "    y='cluster:N',\n",
    "    text='label'\n",
    "    ).properties(width=800,height=800)\n",
    "\n",
    "\n",
    "hist=alt.Chart(df).mark_bar().encode(\n",
    "    x='count()',\n",
    "    y='cluster:N',\n",
    "    color=alt.condition(click,'cluster:N',alt.value('lightgray'))\n",
    ").add_selection(click).properties(width=800,height=800)\n",
    "\n",
    "bars=alt.Chart(df).mark_errorbar().encode(\n",
    "\n",
    ")\n",
    "\n",
    "plot = scatter | hist + text\n",
    "\n",
    "plot=plot.properties(\n",
    "    title=title) \n"
   ]
  },
  {
   "cell_type": "code",
   "execution_count": 7,
   "id": "e7ca8081",
   "metadata": {},
   "outputs": [],
   "source": [
    "plot.save('XXXX.html') #change filename according to the data"
   ]
  },
  {
   "cell_type": "code",
   "execution_count": null,
   "id": "a856e1d9",
   "metadata": {},
   "outputs": [],
   "source": []
  }
 ],
 "metadata": {
  "kernelspec": {
   "display_name": "Python 3 (ipykernel)",
   "language": "python",
   "name": "python3"
  },
  "language_info": {
   "codemirror_mode": {
    "name": "ipython",
    "version": 3
   },
   "file_extension": ".py",
   "mimetype": "text/x-python",
   "name": "python",
   "nbconvert_exporter": "python",
   "pygments_lexer": "ipython3",
   "version": "3.10.11"
  }
 },
 "nbformat": 4,
 "nbformat_minor": 5
}
